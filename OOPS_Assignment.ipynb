{
  "nbformat": 4,
  "nbformat_minor": 0,
  "metadata": {
    "colab": {
      "provenance": []
    },
    "kernelspec": {
      "name": "python3",
      "display_name": "Python 3"
    },
    "language_info": {
      "name": "python"
    }
  },
  "cells": [
    {
      "cell_type": "markdown",
      "source": [
        "#Python OOPs Questions"
      ],
      "metadata": {
        "id": "TEHhuV98ex5E"
      }
    },
    {
      "cell_type": "markdown",
      "source": [
        "1. What is Object-Oriented Programming (OOP)?\n",
        "   - Object-Oriented Programming (OOP) is a programming paradigm that organizes code into objects that contain data (attributes) and behaviors (methods). It helps in structuring complex programs in a modular and reusable way."
      ],
      "metadata": {
        "id": "e_M0WpAhe5q8"
      }
    },
    {
      "cell_type": "markdown",
      "source": [
        "2. What is a class in OOP?\n",
        "   - A class in Object-Oriented Programming (OOP) is a blueprint for creating objects. It defines the attributes (data) and methods (functions) that the objects will have.\n"
      ],
      "metadata": {
        "id": "ATib74L_fVSO"
      }
    },
    {
      "cell_type": "markdown",
      "source": [
        "3. What is an object in OOP?\n",
        "   - An object in Object-Oriented Programming (OOP) is an instance of a class. It represents a real-world entity with specific attributes (data) and methods (behaviors)."
      ],
      "metadata": {
        "id": "j_msIZZhfeY8"
      }
    },
    {
      "cell_type": "markdown",
      "source": [
        "4. What is the difference between abstraction and encapsulation?\n",
        "   - Abstraction hides complexity by focusing on essential features, while encapsulation hides implementation details and protects data."
      ],
      "metadata": {
        "id": "wQHnayJkflqF"
      }
    },
    {
      "cell_type": "markdown",
      "source": [
        "5. What are dunder methods in Python?\n",
        "   - Dunder methods (short for \"Double Underscore Methods\"), also called magic methods or special methods, are built-in methods in Python that have double underscores (__) at the beginning and end of their names. They are automatically invoked by Python to handle special operations like object creation, string representation, operator overloading, etc."
      ],
      "metadata": {
        "id": "2xJmfMHmf2Zk"
      }
    },
    {
      "cell_type": "markdown",
      "source": [
        "6. Explain the concept of inheritance in OOP.\n",
        "   - Inheritance is an Object-Oriented Programming (OOP) concept that allows a class (child class) to inherit properties and methods from another class (parent class). This promotes code reusability and hierarchical relationships between classes."
      ],
      "metadata": {
        "id": "c6MWcuFqf_68"
      }
    },
    {
      "cell_type": "markdown",
      "source": [
        "7. What is polymorphism in OOP?\n",
        "   - Polymorphism in Object-Oriented Programming (OOP) allows objects of different classes to be treated as objects of a common superclass. It enables one interface, multiple implementations, meaning the same method can behave differently depending on the object that calls it."
      ],
      "metadata": {
        "id": "9ABgFKKFgQiM"
      }
    },
    {
      "cell_type": "markdown",
      "source": [
        "8. How is encapsulation achieved in Python?\n",
        "   - Encapsulation in Python is achieved by using access modifiers, like private and protected, to control access to class members. This helps to keep data and methods organized and protected from unintended changes. How to achieve encapsulation in Python:\n",
        "\n",
        "    * Use access modifiers to limit access to class members.\n",
        "    * Use double underscores as a prefix to mark a variable as private.\n",
        "    * Use single underscores as a prefix to mark a variable as protected.  "
      ],
      "metadata": {
        "id": "2L15oPBlgYOF"
      }
    },
    {
      "cell_type": "markdown",
      "source": [
        "9. What is a constructor in Python?\n",
        "   - A constructor in Python is a special method used to initialize objects when they are created. In Python, the constructor method is __init__(), which is automatically called when a new object is instantiated."
      ],
      "metadata": {
        "id": "rkPJ6821hIYt"
      }
    },
    {
      "cell_type": "markdown",
      "source": [
        "10. What are class and static methods in Python?\n",
        "    - class methods are bound to the class itself (not instances), often used for creating objects or manipulating class-level data, while static methods are functions within a class that don't interact with either the class or its instances, serving as utility functions."
      ],
      "metadata": {
        "id": "xsO2kJ6jhbBF"
      }
    },
    {
      "cell_type": "markdown",
      "source": [
        "11. What is method overloading in Python?\n",
        "    - Method Overloading is a fundamental concept in OOP that enables a class to define multiple methods with the same name but different parameters. In Python, this powerful feature allows developers to create versatile functions capable of handling various data types."
      ],
      "metadata": {
        "id": "MuPYRoRkhti0"
      }
    },
    {
      "cell_type": "markdown",
      "source": [
        "12. What is method overriding in OOP?\n",
        "    - Method overriding in object-oriented programming (OOP) is when a subclass redefines a method that's already defined in its superclass. This allows developers to customize the behavior of inherited methods without modifying the parent class's code."
      ],
      "metadata": {
        "id": "EYBFb5aRh_W9"
      }
    },
    {
      "cell_type": "markdown",
      "source": [
        "13. What is a property decorator in Python?\n",
        "    - A property decorator (@property) in Python is used to define getter, setter, and deleter methods for a class attribute. It allows controlled access to attributes while maintaining encapsulation."
      ],
      "metadata": {
        "id": "LvSYLsO8iLl9"
      }
    },
    {
      "cell_type": "markdown",
      "source": [
        "14. Why is polymorphism important in OOP?\n",
        "    - Polymorphism is crucial in Object-Oriented Programming (OOP) because it allows objects of different classes to respond to the same method call in their own unique ways, promoting code reusability, flexibility, and maintainability."
      ],
      "metadata": {
        "id": "lGnROpPqiWp1"
      }
    },
    {
      "cell_type": "markdown",
      "source": [
        "15. What is an abstract class in Python?\n",
        "    - In Python, an abstract class is a class that defines methods that must be implemented by its subclasses, but doesn't provide the implementation itself. Abstract classes are used as templates for other classes."
      ],
      "metadata": {
        "id": "VE6HYUMgifq9"
      }
    },
    {
      "cell_type": "markdown",
      "source": [
        "16. What are the advantages of OOP?\n",
        "    - * Protects data by restricting direct access to attributes and using getter/setter methods.\n",
        "      * Enables a single interface to work with different objects, improving code flexibility.\n",
        "      * Hides internal implementation details, making code easier to use and maintain.\n",
        "      * Modular code structure makes it easier to debug, update, and scale large applications."
      ],
      "metadata": {
        "id": "RkE6_v6hiscW"
      }
    },
    {
      "cell_type": "markdown",
      "source": [
        "17. What is the difference between a class variable and an instance variable?\n",
        "    - class variables are shared by all instances of a class, while instance variables are unique to each instance."
      ],
      "metadata": {
        "id": "OKQ6snEUjNo9"
      }
    },
    {
      "cell_type": "markdown",
      "source": [
        "18. What is multiple inheritance in Python?\n",
        "    - In Python, multiple inheritance is a feature that lets a class inherit attributes and methods from more than one parent class. This allows to combine behaviors from multiple classes into one class."
      ],
      "metadata": {
        "id": "Hpvmm4YBjZ5N"
      }
    },
    {
      "cell_type": "markdown",
      "source": [
        "19. Explain the purpose of ‘’__str__’ and ‘__repr__’ ‘ methods in Python.\n",
        "    - __str__:\n",
        "      * This method is called by the str() function and the print() function to get a string representation of an object.\n",
        "      * The goal is to create a readable representation suitable for end-users.\n",
        "      * If __str__ is not defined, Python will fall back to using __repr__ (if defined).\n",
        "\n",
        "      __repr__:\n",
        "      * This method is called by the repr() function and used for debugging and development.\n",
        "      * The goal is to provide an unambiguous representation that can be used to recreate the object.\n",
        "      * It's often used to display the object's state in the interactive shell.\n",
        "      * If __repr__ is not defined, Python will use the default representation (which is usually less informative)."
      ],
      "metadata": {
        "id": "eq8Rf3GVjnNl"
      }
    },
    {
      "cell_type": "markdown",
      "source": [
        "20. What is the significance of the ‘super()’ function in Python?\n",
        "    - The super() function in Python is used to call methods from a parent (super) class inside a child class. It allows code reuse and avoids redundancy, making it easier to work with inheritance."
      ],
      "metadata": {
        "id": "pjHF2Z2jkY8G"
      }
    },
    {
      "cell_type": "markdown",
      "source": [
        "21. What is the significance of the __del__ method in Python?\n",
        "    - The __del__ method in Python is a destructor method that is automatically called when an object is deleted or goes out of scope. It is mainly used for cleanup operations, such as closing files, releasing memory, or disconnecting from a database."
      ],
      "metadata": {
        "id": "LRhNe77pkgqG"
      }
    },
    {
      "cell_type": "markdown",
      "source": [
        "22. What is the difference between @staticmethod and @classmethod in Python?\n",
        "    - @classmethod is a method to the class itself (accessed via cls), while @staticmethod is a method to the class without any implicit arguments, useful for utility functions within a class."
      ],
      "metadata": {
        "id": "QZ5p1wZ2kqpO"
      }
    },
    {
      "cell_type": "markdown",
      "source": [
        "23. How does polymorphism work in Python with inheritance?\n",
        "    - Polymorphism in Python allows the same method name to behave differently based on the object calling it. When combined with inheritance, polymorphism enables child classes to override methods from the parent class, providing their own implementation."
      ],
      "metadata": {
        "id": "M26EmrdXk-eW"
      }
    },
    {
      "cell_type": "markdown",
      "source": [
        "24. What is method chaining in Python OOP?\n",
        "    - Method Chaining in Python is a technique where multiple methods are called on the same object sequentially in a single line. This improves code readability and conciseness. Method chaining works by returning self from each method, allowing further method calls on the same object."
      ],
      "metadata": {
        "id": "Glfy-bdclHcm"
      }
    },
    {
      "cell_type": "markdown",
      "source": [
        "25. What is the purpose of the __call__ method in Python?\n",
        "    - The __call__ method in Python allows an instance of a class to be called like a function. When defined inside a class, calling an object of that class automatically invokes __call__, just like calling a regular function. Purpose:\n",
        "    \n",
        "     * Makes objects behave like functions.\n",
        "     * Encapsulates logic within an instance for cleaner and reusable code.\n",
        "     * Commonly used in decorators, machine learning models, and API handlers."
      ],
      "metadata": {
        "id": "TB5X-4zclY1-"
      }
    },
    {
      "cell_type": "markdown",
      "source": [
        "#Practical Questions"
      ],
      "metadata": {
        "id": "bkFoWLUClyQu"
      }
    },
    {
      "cell_type": "markdown",
      "source": [
        "1. Create a parent class Animal with a method speak() that prints a generic message. Create a child class Dog\n",
        "that overrides the speak() method to print \"Bark!\"."
      ],
      "metadata": {
        "id": "SkXDeX1Ql16W"
      }
    },
    {
      "cell_type": "code",
      "source": [
        "class Animal:\n",
        "    def speak(self):\n",
        "        print(\"This animal makes a sound.\")\n",
        "\n",
        "class Dog(Animal):\n",
        "    def speak(self):\n",
        "        print(\"Bark!\")\n",
        "\n",
        "animal = Animal()\n",
        "dog = Dog()\n",
        "\n",
        "animal.speak()\n",
        "dog.speak()\n"
      ],
      "metadata": {
        "colab": {
          "base_uri": "https://localhost:8080/"
        },
        "id": "2Jb3bYg1l9nW",
        "outputId": "d9d8dc20-f160-493d-c914-0c8cceda75a1"
      },
      "execution_count": 1,
      "outputs": [
        {
          "output_type": "stream",
          "name": "stdout",
          "text": [
            "This animal makes a sound.\n",
            "Bark!\n"
          ]
        }
      ]
    },
    {
      "cell_type": "markdown",
      "source": [
        "2.  Write a program to create an abstract class Shape with a method area(). Derive classes Circle and Rectangle\n",
        "from it and implement the area() method in both."
      ],
      "metadata": {
        "id": "GWSBbFdtmLAv"
      }
    },
    {
      "cell_type": "code",
      "source": [
        "from abc import ABC, abstractmethod\n",
        "\n",
        "class Shape(ABC):\n",
        "    @abstractmethod\n",
        "    def area(self):\n",
        "        pass\n",
        "\n",
        "class Circle(Shape):\n",
        "    def __init__(self, radius):\n",
        "        self.radius = radius\n",
        "\n",
        "    def area(self):\n",
        "        return 3.1416 * self.radius * self.radius\n",
        "\n",
        "class Rectangle(Shape):\n",
        "    def __init__(self, length, width):\n",
        "        self.length = length\n",
        "        self.width = width\n",
        "\n",
        "    def area(self):\n",
        "        return self.length * self.width\n",
        "\n",
        "\n",
        "circle = Circle(5)\n",
        "rectangle = Rectangle(4, 6)\n",
        "\n",
        "\n",
        "print(\"Area of Circle:\", circle.area())\n",
        "print(\"Area of Rectangle:\", rectangle.area())\n"
      ],
      "metadata": {
        "colab": {
          "base_uri": "https://localhost:8080/"
        },
        "id": "ZsqJPXWzmYCn",
        "outputId": "c1eb3cd4-34cb-412b-c72a-813d3389abb9"
      },
      "execution_count": 3,
      "outputs": [
        {
          "output_type": "stream",
          "name": "stdout",
          "text": [
            "Area of Circle: 78.54\n",
            "Area of Rectangle: 24\n"
          ]
        }
      ]
    },
    {
      "cell_type": "markdown",
      "source": [
        "3. Implement a multi-level inheritance scenario where a class Vehicle has an attribute type. Derive a class Car\n",
        "and further derive a class ElectricCar that adds a battery attribute."
      ],
      "metadata": {
        "id": "rPttfFlJmg6X"
      }
    },
    {
      "cell_type": "code",
      "source": [
        "class Vehicle:\n",
        "    def __init__(self, vehicle_type):\n",
        "        self.vehicle_type = vehicle_type\n",
        "\n",
        "    def display_type(self):\n",
        "        print(\"Vehicle Type:\", self.vehicle_type)\n",
        "\n",
        "class Car(Vehicle):\n",
        "    def __init__(self, brand, model):\n",
        "        super().__init__(\"Car\")\n",
        "        self.brand = brand\n",
        "        self.model = model\n",
        "\n",
        "    def display_car(self):\n",
        "        print(f\"Car: {self.brand} {self.model}\")\n",
        "\n",
        "class ElectricCar(Car):\n",
        "    def __init__(self, brand, model, battery_capacity):\n",
        "        super().__init__(brand, model)\n",
        "        self.battery_capacity = battery_capacity\n",
        "\n",
        "    def display_battery(self):\n",
        "        print(f\"Battery Capacity: {self.battery_capacity} kWh\")\n",
        "\n",
        "tesla = ElectricCar(\"Tesla\", \"Model S\", 100)\n",
        "\n",
        "tesla.display_type()\n",
        "tesla.display_car()\n",
        "tesla.display_battery()\n"
      ],
      "metadata": {
        "colab": {
          "base_uri": "https://localhost:8080/"
        },
        "id": "UXHmtZV8mix2",
        "outputId": "8d01003f-5344-4ac8-c314-2007e11d4007"
      },
      "execution_count": 5,
      "outputs": [
        {
          "output_type": "stream",
          "name": "stdout",
          "text": [
            "Vehicle Type: Car\n",
            "Car: Tesla Model S\n",
            "Battery Capacity: 100 kWh\n"
          ]
        }
      ]
    },
    {
      "cell_type": "markdown",
      "source": [
        "4.  Demonstrate polymorphism by creating a base class Bird with a method fly(). Create two derived classes\n",
        "Sparrow and Penguin that override the fly() method.\n"
      ],
      "metadata": {
        "id": "GbzXmd6jnBd3"
      }
    },
    {
      "cell_type": "code",
      "source": [
        "class Bird:\n",
        "    def fly(self):\n",
        "        return \"Some birds can fly, some cannot.\"\n",
        "\n",
        "class Sparrow(Bird):\n",
        "    def fly(self):\n",
        "        return \"Sparrow flies high in the sky!\"\n",
        "\n",
        "class Penguin(Bird):\n",
        "    def fly(self):\n",
        "        return \"Penguins cannot fly but can swim!\"\n",
        "\n",
        "def bird_flight(bird):\n",
        "    print(bird.fly())\n",
        "\n",
        "sparrow = Sparrow()\n",
        "penguin = Penguin()\n",
        "\n",
        "bird_flight(sparrow)\n",
        "bird_flight(penguin)\n"
      ],
      "metadata": {
        "colab": {
          "base_uri": "https://localhost:8080/"
        },
        "id": "xBtKXiCSnEh3",
        "outputId": "af3573a0-66d8-42a6-ff55-34a66ec8871d"
      },
      "execution_count": 6,
      "outputs": [
        {
          "output_type": "stream",
          "name": "stdout",
          "text": [
            "Sparrow flies high in the sky!\n",
            "Penguins cannot fly but can swim!\n"
          ]
        }
      ]
    },
    {
      "cell_type": "markdown",
      "source": [
        "5. Write a program to demonstrate encapsulation by creating a class BankAccount with private attributes\n",
        "balance and methods to deposit, withdraw, and check balance."
      ],
      "metadata": {
        "id": "E8gPmNvfnRFA"
      }
    },
    {
      "cell_type": "code",
      "source": [
        "class BankAccount:\n",
        "    def __init__(self, account_holder, balance=0):\n",
        "        self.account_holder = account_holder\n",
        "        self.__balance = balance\n",
        "\n",
        "    def deposit(self, amount):\n",
        "        \"\"\"Method to deposit money into the account\"\"\"\n",
        "        if amount > 0:\n",
        "            self.__balance += amount\n",
        "            print(f\"Deposited ${amount}. New Balance: ${self.__balance}\")\n",
        "        else:\n",
        "            print(\"Deposit amount must be positive!\")\n",
        "\n",
        "    def withdraw(self, amount):\n",
        "        \"\"\"Method to withdraw money securely\"\"\"\n",
        "        if 0 < amount <= self.__balance:\n",
        "            self.__balance -= amount\n",
        "\n"
      ],
      "metadata": {
        "id": "h4lWZd5znULJ"
      },
      "execution_count": 7,
      "outputs": []
    },
    {
      "cell_type": "markdown",
      "source": [
        "6. Demonstrate runtime polymorphism using a method play() in a base class Instrument. Derive classes Guitar\n",
        "and Piano that implement their own version of play()."
      ],
      "metadata": {
        "id": "LZakzxwWnbr_"
      }
    },
    {
      "cell_type": "code",
      "source": [
        "class Instrument:\n",
        "    def play(self):\n",
        "        return \"Playing some instrument.\"\n",
        "\n",
        "class Guitar(Instrument):\n",
        "    def play(self):\n",
        "        return \"Strumming the Guitar 🎸\"\n",
        "\n",
        "class Piano(Instrument):\n",
        "    def play(self):\n",
        "        return \"Playing the Piano 🎹\"\n",
        "\n",
        "def perform(instrument):\n",
        "    print(instrument.play())\n",
        "\n",
        "guitar = Guitar()\n",
        "piano = Piano()\n",
        "\n",
        "perform(guitar)\n",
        "perform(piano)\n"
      ],
      "metadata": {
        "colab": {
          "base_uri": "https://localhost:8080/"
        },
        "id": "x0qgK3gpneYf",
        "outputId": "48f367e0-e6d4-44b6-bf8b-9be207c43c90"
      },
      "execution_count": 8,
      "outputs": [
        {
          "output_type": "stream",
          "name": "stdout",
          "text": [
            "Strumming the Guitar 🎸\n",
            "Playing the Piano 🎹\n"
          ]
        }
      ]
    },
    {
      "cell_type": "markdown",
      "source": [
        "7.  Create a class MathOperations with a class method add_numbers() to add two numbers and a static\n",
        "method subtract_numbers() to subtract two numbers."
      ],
      "metadata": {
        "id": "4rF0syr2ntH_"
      }
    },
    {
      "cell_type": "code",
      "source": [
        "class MathOperations:\n",
        "    @classmethod\n",
        "    def add_numbers(cls, a, b):\n",
        "        \"\"\"Class method to add two numbers\"\"\"\n",
        "        return a + b\n",
        "\n",
        "    @staticmethod\n",
        "    def subtract_numbers(a, b):\n",
        "        \"\"\"Static method to subtract two numbers\"\"\"\n",
        "        return a - b\n",
        "\n",
        "sum_result = MathOperations.add_numbers(10, 5)\n",
        "print(\"Sum:\", sum_result)\n",
        "\n",
        "difference = MathOperations.subtract_numbers(10, 5)\n",
        "print(\"Difference:\", difference)\n"
      ],
      "metadata": {
        "colab": {
          "base_uri": "https://localhost:8080/"
        },
        "id": "06oKhKCdn2vw",
        "outputId": "ec2737a1-c191-45cb-d70e-6c5278d77fe6"
      },
      "execution_count": 10,
      "outputs": [
        {
          "output_type": "stream",
          "name": "stdout",
          "text": [
            "Sum: 15\n",
            "Difference: 5\n"
          ]
        }
      ]
    },
    {
      "cell_type": "markdown",
      "source": [
        "8. Implement a class Person with a class method to count the total number of persons created."
      ],
      "metadata": {
        "id": "zvepUVqSn93_"
      }
    },
    {
      "cell_type": "code",
      "source": [
        "class Person:\n",
        "    total_persons = 0\n",
        "\n",
        "    def __init__(self, name, age):\n",
        "        self.name = name\n",
        "        self.age = age\n",
        "        Person.total_persons += 1\n",
        "\n",
        "    @classmethod\n",
        "    def get_total_persons(cls):\n",
        "        \"\"\"Class method to return the total number of persons created\"\"\"\n",
        "        return cls.total_persons\n",
        "\n",
        "p1 = Person(\"Alice\", 25)\n",
        "p2 = Person(\"Bob\", 30)\n",
        "p3 = Person(\"Charlie\", 22)\n",
        "\n",
        "print(\"Total persons created:\", Person.get_total_persons())\n"
      ],
      "metadata": {
        "colab": {
          "base_uri": "https://localhost:8080/"
        },
        "id": "Z_Rlvl6SoB0I",
        "outputId": "c9a377a3-3541-4445-a626-239c870b39bf"
      },
      "execution_count": 11,
      "outputs": [
        {
          "output_type": "stream",
          "name": "stdout",
          "text": [
            "Total persons created: 3\n"
          ]
        }
      ]
    },
    {
      "cell_type": "markdown",
      "source": [
        "9. Write a class Fraction with attributes numerator and denominator. Override the str method to display the\n",
        "fraction as \"numerator/denominator\"."
      ],
      "metadata": {
        "id": "t30usAE-oLvY"
      }
    },
    {
      "cell_type": "code",
      "source": [
        "class Fraction:\n",
        "    def __init__(self, numerator, denominator):\n",
        "        self.numerator = numerator\n",
        "        self.denominator = denominator\n",
        "\n",
        "    def __str__(self):\n",
        "        \"\"\"Overrides str() to display fraction in 'numerator/denominator' format\"\"\"\n",
        "        return f\"{self.numerator}/{self.denominator}\"\n",
        "\n",
        "frac1 = Fraction(3, 4)\n",
        "frac2 = Fraction(5, 8)\n",
        "\n",
        "print(frac1)\n",
        "print(frac2)\n"
      ],
      "metadata": {
        "colab": {
          "base_uri": "https://localhost:8080/"
        },
        "id": "URK2KvL8oN3v",
        "outputId": "e4d2298e-86c5-47d8-ce39-b4ce20d93f4d"
      },
      "execution_count": 12,
      "outputs": [
        {
          "output_type": "stream",
          "name": "stdout",
          "text": [
            "3/4\n",
            "5/8\n"
          ]
        }
      ]
    },
    {
      "cell_type": "markdown",
      "source": [
        "10. Demonstrate operator overloading by creating a class Vector and overriding the add method to add two\n",
        "vectors."
      ],
      "metadata": {
        "id": "WKWF9ZcvoUBx"
      }
    },
    {
      "cell_type": "code",
      "source": [
        "class Vector:\n",
        "    def __init__(self, x, y):\n",
        "        self.x = x\n",
        "        self.y = y\n",
        "\n",
        "    def __add__(self, other):\n",
        "        \"\"\"Overloads the + operator to add two vectors\"\"\"\n",
        "        return Vector(self.x + other.x, self.y + other.y)\n",
        "\n",
        "    def __str__(self):\n",
        "        \"\"\"Returns vector in (x, y) format\"\"\"\n",
        "        return f\"({self.x}, {self.y})\"\n",
        "\n",
        "v1 = Vector(2, 3)\n",
        "v2 = Vector(4, 5)\n",
        "\n",
        "result = v1 + v2\n",
        "\n",
        "print(\"Vector 1:\", v1)\n",
        "print(\"Vector 2:\", v2)\n",
        "print(\"Sum of Vectors:\", result)\n"
      ],
      "metadata": {
        "colab": {
          "base_uri": "https://localhost:8080/"
        },
        "id": "lLuERk3poX63",
        "outputId": "9367630f-cd2d-4d85-8a17-6b540671e5b1"
      },
      "execution_count": 13,
      "outputs": [
        {
          "output_type": "stream",
          "name": "stdout",
          "text": [
            "Vector 1: (2, 3)\n",
            "Vector 2: (4, 5)\n",
            "Sum of Vectors: (6, 8)\n"
          ]
        }
      ]
    },
    {
      "cell_type": "markdown",
      "source": [
        "11. Create a class Person with attributes name and age. Add a method greet() that prints \"Hello, my name is\n",
        "{name} and I am {age} years old.\""
      ],
      "metadata": {
        "id": "HI0DtLT_ohzo"
      }
    },
    {
      "cell_type": "code",
      "source": [
        "class Person:\n",
        "    def __init__(self, name, age):\n",
        "        self.name = name\n",
        "        self.age = age\n",
        "\n",
        "    def greet(self):\n",
        "        \"\"\"Prints a greeting message with name and age.\"\"\"\n",
        "        print(f\"Hello, my name is {self.name} and I am {self.age} years old.\")\n",
        "\n",
        "# Creating a Person object\n",
        "person1 = Person(\"Souvik\", 21)\n",
        "\n",
        "# Calling the greet method\n",
        "person1.greet()\n"
      ],
      "metadata": {
        "colab": {
          "base_uri": "https://localhost:8080/"
        },
        "id": "ZXWtfaPMo57I",
        "outputId": "60bddefe-2fb4-4b2e-e567-54589788235c"
      },
      "execution_count": 17,
      "outputs": [
        {
          "output_type": "stream",
          "name": "stdout",
          "text": [
            "Hello, my name is Souvik and I am 21 years old.\n"
          ]
        }
      ]
    },
    {
      "cell_type": "markdown",
      "source": [
        "12.  Implement a class Student with attributes name and grades. Create a method average_grade() to compute\n",
        "the average of the grades."
      ],
      "metadata": {
        "id": "xxrvzPySpDIQ"
      }
    },
    {
      "cell_type": "code",
      "source": [
        "class Student:\n",
        "    def __init__(self, name, grades):\n",
        "        self.name = name\n",
        "        self.grades = grades\n",
        "\n",
        "    def average_grade(self):\n",
        "        \"\"\"Computes and returns the average of the student's grades.\"\"\"\n",
        "        if len(self.grades) == 0:\n",
        "            return 0\n",
        "        return sum(self.grades) / len(self.grades)\n",
        "\n",
        "student1 = Student(\"Souvik\", [85, 90, 78, 92, 88])\n",
        "\n",
        "print(f\"{student1.name}'s Average Grade:\", student1.average_grade())\n"
      ],
      "metadata": {
        "colab": {
          "base_uri": "https://localhost:8080/"
        },
        "id": "Fab1TVThpFbs",
        "outputId": "8df59b84-f2c0-460a-89ac-3b229e82457b"
      },
      "execution_count": 19,
      "outputs": [
        {
          "output_type": "stream",
          "name": "stdout",
          "text": [
            "Souvik's Average Grade: 86.6\n"
          ]
        }
      ]
    },
    {
      "cell_type": "markdown",
      "source": [
        "13. Create a class Rectangle with methods set_dimensions() to set the dimensions and area() to calculate the\n",
        "area."
      ],
      "metadata": {
        "id": "taIpprr_pZzR"
      }
    },
    {
      "cell_type": "code",
      "source": [
        "class Rectangle:\n",
        "    def __init__(self):\n",
        "        self.length = 0\n",
        "        self.width = 0\n",
        "\n",
        "    def set_dimensions(self, length, width):\n",
        "        \"\"\"Sets the dimensions of the rectangle.\"\"\"\n",
        "        self.length = length\n",
        "        self.width = width\n",
        "\n",
        "    def area(self):\n",
        "        \"\"\"Calculates and returns the area of the rectangle.\"\"\"\n",
        "        return self.length * self.width\n",
        "\n",
        "rect = Rectangle()\n",
        "\n",
        "rect.set_dimensions(5, 10)\n",
        "\n",
        "print(\"Area of Rectangle:\", rect.area())\n"
      ],
      "metadata": {
        "colab": {
          "base_uri": "https://localhost:8080/"
        },
        "id": "ayRhHZrCpcav",
        "outputId": "cb2facf8-00f5-4b36-dc23-28a681b77970"
      },
      "execution_count": 20,
      "outputs": [
        {
          "output_type": "stream",
          "name": "stdout",
          "text": [
            "Area of Rectangle: 50\n"
          ]
        }
      ]
    },
    {
      "cell_type": "markdown",
      "source": [
        "14. Create a class Employee with a method calculate_salary() that computes the salary based on hours worked\n",
        "and hourly rate. Create a derived class Manager that adds a bonus to the salary."
      ],
      "metadata": {
        "id": "bqezFcCjpkFA"
      }
    },
    {
      "cell_type": "code",
      "source": [
        "class Employee:\n",
        "    def __init__(self, name, hours_worked, hourly_rate):\n",
        "        self.name = name\n",
        "        self.hours_worked = hours_worked\n",
        "        self.hourly_rate = hourly_rate\n",
        "\n",
        "    def calculate_salary(self):\n",
        "        \"\"\"Calculates the salary based on hours worked and hourly rate.\"\"\"\n",
        "        return self.hours_worked * self.hourly_rate\n",
        "\n",
        "class Manager(Employee):\n",
        "    def __init__(self, name, hours_worked, hourly_rate, bonus):\n",
        "        super().__init__(name, hours_worked, hourly_rate)\n",
        "        self.bonus = bonus\n",
        "\n",
        "    def calculate_salary(self):\n",
        "        \"\"\"Calculates salary with an additional bonus.\"\"\"\n",
        "        base_salary = super().calculate_salary()\n",
        "        return base_salary + self.bonus\n",
        "\n",
        "emp = Employee(\"Alice\", 40, 20)\n",
        "print(f\"{emp.name}'s Salary: ${emp.calculate_salary()}\")\n",
        "# Creating Manager object\n",
        "mgr = Manager(\"Bob\", 40, 30, 500)\n",
        "print(f\"{mgr.name}'s Salary: ${mgr.calculate_salary()}\")\n"
      ],
      "metadata": {
        "colab": {
          "base_uri": "https://localhost:8080/"
        },
        "id": "JDWzc0wqpmfx",
        "outputId": "cd7049ad-e7b3-4039-d116-cdb08d9f62a8"
      },
      "execution_count": 21,
      "outputs": [
        {
          "output_type": "stream",
          "name": "stdout",
          "text": [
            "Alice's Salary: $800\n",
            "Bob's Salary: $1700\n"
          ]
        }
      ]
    },
    {
      "cell_type": "markdown",
      "source": [
        "15. Create a class Product with attributes name, price, and quantity. Implement a method total_price() that\n",
        "calculates the total price of the product."
      ],
      "metadata": {
        "id": "FZoxKcBXp1k4"
      }
    },
    {
      "cell_type": "code",
      "source": [
        "class Product:\n",
        "    def __init__(self, name, price, quantity):\n",
        "        self.name = name\n",
        "        self.price = price\n",
        "        self.quantity = quantity\n",
        "\n",
        "    def total_price(self):\n",
        "        \"\"\"Calculates and returns the total price of the product.\"\"\"\n",
        "        return self.price * self.quantity\n",
        "\n",
        "product1 = Product(\"Laptop\", 800, 2)\n",
        "product2 = Product(\"Phone\", 500, 3)\n",
        "\n",
        "# Displaying total prices\n",
        "print(f\"Total price for {product1.name}: ${product1.total_price()}\")\n",
        "print(f\"Total price for {product2.name}: ${product2.total_price()}\")\n"
      ],
      "metadata": {
        "colab": {
          "base_uri": "https://localhost:8080/"
        },
        "id": "GSSoyCbBp_rp",
        "outputId": "54f4e138-1edd-44f0-9199-f35fe2ae76fb"
      },
      "execution_count": 24,
      "outputs": [
        {
          "output_type": "stream",
          "name": "stdout",
          "text": [
            "Total price for Laptop: $1600\n",
            "Total price for Phone: $1500\n"
          ]
        }
      ]
    },
    {
      "cell_type": "markdown",
      "source": [
        "16. Create a class Animal with an abstract method sound(). Create two derived classes Cow and Sheep that\n",
        "implement the sound() method."
      ],
      "metadata": {
        "id": "K3hLNhnbqEm1"
      }
    },
    {
      "cell_type": "code",
      "source": [
        "class Animal(ABC):\n",
        "    @abstractmethod\n",
        "    def sound(self):\n",
        "        \"\"\"Abstract method to be implemented by derived classes\"\"\"\n",
        "        pass\n",
        "\n",
        "class Cow(Animal):\n",
        "    def sound(self):\n",
        "        return \"Moo 🐄\"\n",
        "\n",
        "class Sheep(Animal):\n",
        "    def sound(self):\n",
        "        return \"Baa 🐑\"\n",
        "\n",
        "cow = Cow()\n",
        "sheep = Sheep()\n",
        "\n",
        "print(\"Cow:\", cow.sound())\n",
        "print(\"Sheep:\", sheep.sound())\n"
      ],
      "metadata": {
        "colab": {
          "base_uri": "https://localhost:8080/"
        },
        "id": "-0W_VeV-qH8Y",
        "outputId": "8e59b6c4-da88-4944-906c-f19b0ab62a48"
      },
      "execution_count": 25,
      "outputs": [
        {
          "output_type": "stream",
          "name": "stdout",
          "text": [
            "Cow: Moo 🐄\n",
            "Sheep: Baa 🐑\n"
          ]
        }
      ]
    },
    {
      "cell_type": "markdown",
      "source": [
        "17. Create a class Book with attributes title, author, and year_published. Add a method get_book_info() that\n",
        "returns a formatted string with the book's details."
      ],
      "metadata": {
        "id": "0gMCZ4fDqYUA"
      }
    },
    {
      "cell_type": "code",
      "source": [
        "class Book:\n",
        "    def __init__(self, title, author, year_published):\n",
        "        self.title = title\n",
        "        self.author = author\n",
        "        self.year_published = year_published\n",
        "\n",
        "    def get_book_info(self):\n",
        "        \"\"\"Returns a formatted string with book details.\"\"\"\n",
        "        return f\"'{self.title}' by {self.author}, published in {self.year_published}\"\n",
        "\n",
        "book1 = Book(\"To Kill a Mockingbird\", \"Harper Lee\", 1960)\n",
        "book2 = Book(\"1984\", \"George Orwell\", 1949)\n",
        "\n",
        "print(book1.get_book_info())\n",
        "print(book2.get_book_info())\n"
      ],
      "metadata": {
        "colab": {
          "base_uri": "https://localhost:8080/"
        },
        "id": "yPmbKA9dqZ8I",
        "outputId": "58747fb3-678e-4ef3-e237-a8497d5df223"
      },
      "execution_count": 26,
      "outputs": [
        {
          "output_type": "stream",
          "name": "stdout",
          "text": [
            "'To Kill a Mockingbird' by Harper Lee, published in 1960\n",
            "'1984' by George Orwell, published in 1949\n"
          ]
        }
      ]
    },
    {
      "cell_type": "markdown",
      "source": [
        "18. Create a class House with attributes address and price. Create a derived class Mansion that adds an\n",
        "attribute number_of_rooms."
      ],
      "metadata": {
        "id": "IeqT5PzrqnsS"
      }
    },
    {
      "cell_type": "code",
      "source": [
        "class House:\n",
        "    def __init__(self, address, price):\n",
        "        self.address = address\n",
        "        self.price = price\n",
        "\n",
        "    def get_house_info(self):\n",
        "        \"\"\"Returns house details.\"\"\"\n",
        "        return f\"Address: {self.address}, Price: ${self.price}\"\n",
        "\n",
        "class Mansion(House):\n",
        "    def __init__(self, address, price, number_of_rooms):\n",
        "        super().__init__(address, price)\n",
        "        self.number_of_rooms = number_of_rooms\n",
        "\n",
        "    def get_mansion_info(self):\n",
        "        \"\"\"Returns mansion details, including number of rooms.\"\"\"\n",
        "        return f\"{super().get_house_info()}, Rooms: {self.number_of_rooms}\"\n",
        "\n",
        "house1 = House(\"12 calcutta lane\", 250000)\n",
        "mansion1 = Mansion(\"456 park street\", 5000000, 12)\n",
        "\n",
        "print(house1.get_house_info())\n",
        "print(mansion1.get_mansion_info())\n"
      ],
      "metadata": {
        "colab": {
          "base_uri": "https://localhost:8080/"
        },
        "id": "LqRUo5Jbqp1g",
        "outputId": "c9a8be06-d295-46db-b7cb-1cda10e92751"
      },
      "execution_count": 29,
      "outputs": [
        {
          "output_type": "stream",
          "name": "stdout",
          "text": [
            "Address: 12 calcutta lane, Price: $250000\n",
            "Address: 456 park street, Price: $5000000, Rooms: 12\n"
          ]
        }
      ]
    }
  ]
}